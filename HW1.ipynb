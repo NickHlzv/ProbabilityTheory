{
 "cells": [
  {
   "cell_type": "code",
   "execution_count": 1,
   "metadata": {
    "collapsed": true
   },
   "outputs": [],
   "source": [
    "from math import factorial\n",
    "def combination(success:int, all:int):\n",
    "   c = factorial(all)/(factorial(all-success) * factorial(success))\n",
    "   return c"
   ]
  },
  {
   "cell_type": "markdown",
   "source": [
    "1)Число кард одной масти = 52/4 = 13\n",
    "Переменной \"all_c\" найдем, всевозможные сочетания карт\n",
    "Переменной \"success_c\" найдем благоприятные"
   ],
   "metadata": {
    "collapsed": false,
    "pycharm": {
     "name": "#%% md\n"
    }
   }
  },
  {
   "cell_type": "code",
   "execution_count": 2,
   "outputs": [
    {
     "data": {
      "text/plain": "270725.0"
     },
     "execution_count": 2,
     "metadata": {},
     "output_type": "execute_result"
    }
   ],
   "source": [
    "all_c = combination(4,52)\n",
    "success_c = combination(4,13)\n",
    "all_c"
   ],
   "metadata": {
    "collapsed": false,
    "pycharm": {
     "name": "#%%\n"
    }
   }
  },
  {
   "cell_type": "code",
   "execution_count": 3,
   "outputs": [
    {
     "data": {
      "text/plain": "715.0"
     },
     "execution_count": 3,
     "metadata": {},
     "output_type": "execute_result"
    }
   ],
   "source": [
    "success_c\n",
    "\n"
   ],
   "metadata": {
    "collapsed": false,
    "pycharm": {
     "name": "#%%\n"
    }
   }
  },
  {
   "cell_type": "markdown",
   "source": [
    "Теперь делим друг на друга и смотрим ответ\n",
    "\n"
   ],
   "metadata": {
    "collapsed": false
   }
  },
  {
   "cell_type": "code",
   "execution_count": 4,
   "outputs": [
    {
     "data": {
      "text/plain": "0.0026410564225690276"
     },
     "execution_count": 4,
     "metadata": {},
     "output_type": "execute_result"
    }
   ],
   "source": [
    "answ_1a = success_c/all_c\n",
    "answ_1a"
   ],
   "metadata": {
    "collapsed": false,
    "pycharm": {
     "name": "#%%\n"
    }
   }
  },
  {
   "cell_type": "markdown",
   "source": [
    "Далее тоже самое найдем для 1б число благоприятных исходов\n",
    "это сочетания тузов плюс сочетания доборы комбинации до четырех карт из остальной колодой (кроме тузов)\n",
    "сочетание 1/4 (тузы)* сочетание 3/48(остальные карты)+сочетание 2/4 (тузы) * сочетание 2/48(остальные карты) + сочетание 3/4 (тузы)* сочетание 1/48(остальные карты) + 1 сочетание (т.к 4 туза может быть только одно сочетание из колоды)<br>\n",
    "4 - макисмально возможное количество тузов<br>\n",
    "48 - все карты кроме тузов"
   ],
   "metadata": {
    "collapsed": false,
    "pycharm": {
     "name": "#%% md\n"
    }
   }
  },
  {
   "cell_type": "code",
   "execution_count": 5,
   "outputs": [
    {
     "data": {
      "text/plain": "76145.0"
     },
     "execution_count": 5,
     "metadata": {},
     "output_type": "execute_result"
    }
   ],
   "source": [
    "success_c = (combination(1,4)*combination(3,48)) + (combination(2,4)*combination(2,48)) + (combination(3,4)*combination(1,48)) + 1\n",
    "success_c\n",
    "#Ниже делим число успешных сочетаний на все и получаем ответ"
   ],
   "metadata": {
    "collapsed": false,
    "pycharm": {
     "name": "#%%\n"
    }
   }
  },
  {
   "cell_type": "code",
   "execution_count": 6,
   "outputs": [
    {
     "data": {
      "text/plain": "0.2812632745405855"
     },
     "execution_count": 6,
     "metadata": {},
     "output_type": "execute_result"
    }
   ],
   "source": [
    "answ_1b = success_c/all_c #all_c уже посчитано\n",
    "answ_1b"
   ],
   "metadata": {
    "collapsed": false,
    "pycharm": {
     "name": "#%%\n"
    }
   }
  },
  {
   "cell_type": "markdown",
   "source": [
    "2. Наши 3 кнопки которые нажать одновременно это сочетание из 3х элементов, т.к порядок не важен мы одновременно нажимаем кнопки <br>\n",
    "Все сочетания найдем как сочетания 3 к 10 т.к у нас 10 кнопок всего, успешное одно соответственно\n"
   ],
   "metadata": {
    "collapsed": false,
    "pycharm": {
     "name": "#%% md\n"
    }
   }
  },
  {
   "cell_type": "code",
   "execution_count": 7,
   "outputs": [
    {
     "data": {
      "text/plain": "120.0"
     },
     "execution_count": 7,
     "metadata": {},
     "output_type": "execute_result"
    }
   ],
   "source": [
    "all_c = combination(3, 10)\n",
    "all_c\n"
   ],
   "metadata": {
    "collapsed": false,
    "pycharm": {
     "name": "#%%\n"
    }
   }
  },
  {
   "cell_type": "code",
   "execution_count": 8,
   "outputs": [
    {
     "data": {
      "text/plain": "0.008333333333333333"
     },
     "execution_count": 8,
     "metadata": {},
     "output_type": "execute_result"
    }
   ],
   "source": [
    "#Отсюда ответ будет 1/all_c\n",
    "answ_2 = 1/all_c\n",
    "answ_2"
   ],
   "metadata": {
    "collapsed": false,
    "pycharm": {
     "name": "#%%\n"
    }
   }
  },
  {
   "cell_type": "markdown",
   "source": [
    "Третья задача, 9 деталей окрашено 15 всего.<br>\n",
    "Вероятность что первая деталь окрашена 9/15<br>\n",
    "Для второй детали уже 8/14 (-1) деталь<br>\n",
    "Для третьей детали 7/13. Теперь все вероятности надо перемножить между собой<br>"
   ],
   "metadata": {
    "collapsed": false,
    "pycharm": {
     "name": "#%% md\n"
    }
   }
  },
  {
   "cell_type": "code",
   "execution_count": 9,
   "outputs": [
    {
     "data": {
      "text/plain": "0.1846153846153846"
     },
     "execution_count": 9,
     "metadata": {},
     "output_type": "execute_result"
    }
   ],
   "source": [
    "9/15*8/14*7/13"
   ],
   "metadata": {
    "collapsed": false,
    "pycharm": {
     "name": "#%%\n"
    }
   }
  },
  {
   "cell_type": "markdown",
   "source": [
    "4ая - Аналогичная задача<br>\n",
    "вероятность что первый билет выигрышный 2/100<br>\n",
    "вероятность что следующий билет выигрышный уже 1/99<br>\n",
    "Также перемножаем, т.к должны обе вероятнсти сработать одновременно"
   ],
   "metadata": {
    "collapsed": false,
    "pycharm": {
     "name": "#%% md\n"
    }
   }
  },
  {
   "cell_type": "code",
   "execution_count": 10,
   "outputs": [
    {
     "data": {
      "text/plain": "0.00020202020202020202"
     },
     "execution_count": 10,
     "metadata": {},
     "output_type": "execute_result"
    }
   ],
   "source": [
    "2/100*1/99"
   ],
   "metadata": {
    "collapsed": false,
    "pycharm": {
     "name": "#%%\n"
    }
   }
  }
 ],
 "metadata": {
  "kernelspec": {
   "display_name": "Python 3",
   "language": "python",
   "name": "python3"
  },
  "language_info": {
   "codemirror_mode": {
    "name": "ipython",
    "version": 2
   },
   "file_extension": ".py",
   "mimetype": "text/x-python",
   "name": "python",
   "nbconvert_exporter": "python",
   "pygments_lexer": "ipython2",
   "version": "2.7.6"
  }
 },
 "nbformat": 4,
 "nbformat_minor": 0
}