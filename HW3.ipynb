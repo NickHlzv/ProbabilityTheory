{
 "cells": [
  {
   "cell_type": "code",
   "execution_count": 1,
   "metadata": {
    "collapsed": true
   },
   "outputs": [],
   "source": [
    "#Объявляю функцию сочетания сразу и подключу библиотеки\n",
    "import numpy as np\n",
    "from math import factorial, sqrt\n",
    "def combination(success:int, all:int):\n",
    "   c = factorial(all)/(factorial(all-success) * factorial(success))\n",
    "   return c"
   ]
  },
  {
   "cell_type": "markdown",
   "source": [
    "### 1"
   ],
   "metadata": {
    "collapsed": false,
    "pycharm": {
     "name": "#%% md\n"
    }
   }
  },
  {
   "cell_type": "code",
   "execution_count": 2,
   "outputs": [
    {
     "data": {
      "text/plain": "65.3"
     },
     "execution_count": 2,
     "metadata": {},
     "output_type": "execute_result"
    }
   ],
   "source": [
    "a = np.array([100, 80, 75, 77, 89, 33, 45, 25, 65, 17, 30, 24, 57, 55, 70, 75, 65, 84, 90, 150])\n",
    "a.sort()\n",
    "# Работаем сразу с сортированным одномерным массивом\n",
    "# Ищем среднее\n",
    "avg = np.sum(a)/len(a)\n",
    "avg"
   ],
   "metadata": {
    "collapsed": false,
    "pycharm": {
     "name": "#%%\n"
    }
   }
  },
  {
   "cell_type": "code",
   "execution_count": 3,
   "outputs": [
    {
     "data": {
      "text/plain": "array([2.33289e+03, 1.70569e+03, 1.62409e+03, 1.24609e+03, 1.04329e+03,\n       4.12090e+02, 1.06090e+02, 6.88900e+01, 9.00000e-02, 9.00000e-02,\n       2.20900e+01, 9.40900e+01, 9.40900e+01, 1.36890e+02, 2.16090e+02,\n       3.49690e+02, 5.61690e+02, 6.10090e+02, 1.20409e+03, 7.17409e+03])"
     },
     "execution_count": 3,
     "metadata": {},
     "output_type": "execute_result"
    }
   ],
   "source": [
    "#Теперь ищем дисперсии, потому что из смещенной оценки мы получим среднеквадратичное отклонение сразу\n",
    "d = (a - avg)**2\n",
    "d"
   ],
   "metadata": {
    "collapsed": false,
    "pycharm": {
     "name": "#%%\n"
    }
   }
  },
  {
   "cell_type": "code",
   "execution_count": 4,
   "outputs": [
    {
     "data": {
      "text/plain": "1000.115789473684"
     },
     "execution_count": 4,
     "metadata": {},
     "output_type": "execute_result"
    }
   ],
   "source": [
    "#Несмещенная дисперсия\n",
    "biased_var=np.sum(d)/(len(a)-1)\n",
    "biased_var"
   ],
   "metadata": {
    "collapsed": false,
    "pycharm": {
     "name": "#%%\n"
    }
   }
  },
  {
   "cell_type": "code",
   "execution_count": 5,
   "outputs": [
    {
     "data": {
      "text/plain": "950.1099999999999"
     },
     "execution_count": 5,
     "metadata": {},
     "output_type": "execute_result"
    }
   ],
   "source": [
    "#Смещенная дисперсия\n",
    "unbiased_var = np.sum(d)/len(a)\n",
    "unbiased_var"
   ],
   "metadata": {
    "collapsed": false,
    "pycharm": {
     "name": "#%%\n"
    }
   }
  },
  {
   "cell_type": "code",
   "execution_count": 6,
   "outputs": [
    {
     "data": {
      "text/plain": "30.823854398825592"
     },
     "execution_count": 6,
     "metadata": {},
     "output_type": "execute_result"
    }
   ],
   "source": [
    "#Среднеквадратичное отклонение из смещенной дисперсии\n",
    "sqrt(unbiased_var)\n",
    "#По умолчанию у нас считается среднеквадратичное отклонение из смещенной десперсии, без степеней свободы"
   ],
   "metadata": {
    "collapsed": false,
    "pycharm": {
     "name": "#%%\n"
    }
   }
  },
  {
   "cell_type": "code",
   "execution_count": 7,
   "outputs": [
    {
     "data": {
      "text/plain": "30.823854398825592"
     },
     "execution_count": 7,
     "metadata": {},
     "output_type": "execute_result"
    }
   ],
   "source": [
    "#Это видно если вызвать просто функцию без аргумента ddof, считается сразу смещенная дисперсия\n",
    "np.std(a)"
   ],
   "metadata": {
    "collapsed": false,
    "pycharm": {
     "name": "#%%\n"
    }
   }
  },
  {
   "cell_type": "markdown",
   "source": [
    "### 2\n",
    "Вторую задачу, сделаем через сочетания классическим способом<br>\n",
    "Нужно перебрать все возможные варианты вытаскивания мячей у нас должно быть 3 мяча<br>\n",
    "1) 1ая коробка =0, 2ая = 3 белых мячей\n",
    "2) 1ая коробка =1, 2ая = 2\n",
    "3) 1ая коробка =2, 2ая = 1\n",
    "Распишем вероятности в каждую перменную и потом сложим"
   ],
   "metadata": {
    "collapsed": false,
    "pycharm": {
     "name": "#%% md\n"
    }
   }
  },
  {
   "cell_type": "code",
   "execution_count": 8,
   "outputs": [
    {
     "data": {
      "text/plain": "0.0028409090909090906"
     },
     "execution_count": 8,
     "metadata": {},
     "output_type": "execute_result"
    }
   ],
   "source": [
    "# 3 множителя: 1ый вероятность небелых из первой коробки, 2ой вероятность 3х белых из второй коробки, вероятность одного небелого из 2ой коробки\n",
    "p1 = combination(2, 3)/combination(2,8)*combination(3,5)/combination(3,12)*combination(1,7)/combination(1,12)\n",
    "p1\n"
   ],
   "metadata": {
    "collapsed": false,
    "pycharm": {
     "name": "#%%\n"
    }
   }
  },
  {
   "cell_type": "code",
   "execution_count": 9,
   "outputs": [
    {
     "data": {
      "text/plain": "0.011299070247933887"
     },
     "execution_count": 9,
     "metadata": {},
     "output_type": "execute_result"
    }
   ],
   "source": [
    "p2 = combination(1,5)/combination(1,8)*combination(1,3)/combination(1,8)*combination(2,5)/combination(2,12)*combination(2,7)/combination(2,12)\n",
    "p2\n"
   ],
   "metadata": {
    "collapsed": false,
    "pycharm": {
     "name": "#%%\n"
    }
   }
  },
  {
   "cell_type": "code",
   "execution_count": 10,
   "outputs": [
    {
     "data": {
      "text/plain": "0.023674242424242424"
     },
     "execution_count": 10,
     "metadata": {},
     "output_type": "execute_result"
    }
   ],
   "source": [
    "p3 = combination(2,5)/combination(2,8)*combination(1,5)/combination(1,12)*combination(3,7)/combination(3,12)\n",
    "p3\n"
   ],
   "metadata": {
    "collapsed": false,
    "pycharm": {
     "name": "#%%\n"
    }
   }
  },
  {
   "cell_type": "code",
   "execution_count": 11,
   "outputs": [
    {
     "data": {
      "text/plain": "0.0378142217630854"
     },
     "execution_count": 11,
     "metadata": {},
     "output_type": "execute_result"
    }
   ],
   "source": [
    "#Складываем наши вариации и будет вероятность что 3 мяча белые\n",
    "p1+p2+p3"
   ],
   "metadata": {
    "collapsed": false,
    "pycharm": {
     "name": "#%%\n"
    }
   }
  },
  {
   "cell_type": "markdown",
   "source": [
    "### 3\n",
    "Найду вероятность того что все хоть кто нибудь попадет или никто не попадет, это все возможные исходы"
   ],
   "metadata": {
    "collapsed": false,
    "pycharm": {
     "name": "#%% md\n"
    }
   }
  },
  {
   "cell_type": "code",
   "execution_count": 12,
   "outputs": [
    {
     "data": {
      "text/plain": "0.008000000000000002"
     },
     "execution_count": 12,
     "metadata": {},
     "output_type": "execute_result"
    }
   ],
   "source": [
    "# Считаем вероятность что вообще никто не попадает (1-0.9)*(1-0.8)*(1-0.6)\n",
    "p_neg=0.1*0.2*0.4\n",
    "p_neg"
   ],
   "metadata": {
    "collapsed": false,
    "pycharm": {
     "name": "#%%\n"
    }
   }
  },
  {
   "cell_type": "code",
   "execution_count": 13,
   "outputs": [
    {
     "data": {
      "text/plain": "2.3080000000000003"
     },
     "execution_count": 13,
     "metadata": {},
     "output_type": "execute_result"
    }
   ],
   "source": [
    "#Считаем все успешные вероятности с попаданиями хоть кого-то одного или непопаданием никого\n",
    "#чтобы собрать все возможные исходы\n",
    "p_fortune = 0.9+0.8+0.6+p_neg\n",
    "p_fortune"
   ],
   "metadata": {
    "collapsed": false,
    "pycharm": {
     "name": "#%%\n"
    }
   }
  },
  {
   "cell_type": "markdown",
   "source": [
    "Таким образом найдя общие суммы вероятностей всех возможных событий, получается некоторый коэффициент, к которму мы уже соотносим\n",
    "каждую вероятность спортсмена поочередно"
   ],
   "metadata": {
    "collapsed": false,
    "pycharm": {
     "name": "#%% md\n"
    }
   }
  },
  {
   "cell_type": "code",
   "execution_count": 14,
   "outputs": [
    {
     "data": {
      "text/plain": "0.389948006932409"
     },
     "execution_count": 14,
     "metadata": {},
     "output_type": "execute_result"
    }
   ],
   "source": [
    "0.9/p_fortune\n"
   ],
   "metadata": {
    "collapsed": false,
    "pycharm": {
     "name": "#%%\n"
    }
   }
  },
  {
   "cell_type": "code",
   "execution_count": 15,
   "outputs": [
    {
     "data": {
      "text/plain": "0.34662045060658575"
     },
     "execution_count": 15,
     "metadata": {},
     "output_type": "execute_result"
    }
   ],
   "source": [
    "0.8/p_fortune\n"
   ],
   "metadata": {
    "collapsed": false,
    "pycharm": {
     "name": "#%%\n"
    }
   }
  },
  {
   "cell_type": "code",
   "execution_count": 16,
   "outputs": [
    {
     "data": {
      "text/plain": "0.2599653379549393"
     },
     "execution_count": 16,
     "metadata": {},
     "output_type": "execute_result"
    }
   ],
   "source": [
    "0.6/p_fortune\n"
   ],
   "metadata": {
    "collapsed": false,
    "pycharm": {
     "name": "#%%\n"
    }
   }
  },
  {
   "cell_type": "markdown",
   "source": [
    "### 4\n",
    "Похожая на предыдущую задачу, попробуем понять всевозможные исходы, студент в любом случае поступил на один из факультетов<br>\n",
    "Поэтому: из общего набора студентов есть A, B и A+B вместе, соответственно думаем, что студент будет учиться на факутелтах\n",
    "с такой вероятностью<br>\n",
    "A = 25% = 0.25\n",
    "B = 25% = 0.25\n",
    "C = 50% = 0.5\n",
    "Теперь найдем вероятность того что сдают все студенты"
   ],
   "metadata": {
    "collapsed": false,
    "pycharm": {
     "name": "#%% md\n"
    }
   }
  },
  {
   "cell_type": "code",
   "execution_count": 17,
   "outputs": [
    {
     "data": {
      "text/plain": "0.825"
     },
     "execution_count": 17,
     "metadata": {},
     "output_type": "execute_result"
    }
   ],
   "source": [
    "#Почленно перемножаем и складываем вероятность что студент там учится, на то что он там сдаст сессию\n",
    "p_all = 0.25*0.8+0.25*0.7+0.5*0.9\n",
    "p_all"
   ],
   "metadata": {
    "collapsed": false,
    "pycharm": {
     "name": "#%%\n"
    }
   }
  },
  {
   "cell_type": "markdown",
   "source": [
    "Осталось соотнести теперь каждого студента к общей вероятности"
   ],
   "metadata": {
    "collapsed": false,
    "pycharm": {
     "name": "#%% md\n"
    }
   }
  },
  {
   "cell_type": "code",
   "execution_count": 18,
   "outputs": [
    {
     "data": {
      "text/plain": "0.24242424242424246"
     },
     "execution_count": 18,
     "metadata": {},
     "output_type": "execute_result"
    }
   ],
   "source": [
    "0.25*0.8/p_all"
   ],
   "metadata": {
    "collapsed": false,
    "pycharm": {
     "name": "#%%\n"
    }
   }
  },
  {
   "cell_type": "code",
   "execution_count": 19,
   "outputs": [
    {
     "data": {
      "text/plain": "0.21212121212121213"
     },
     "execution_count": 19,
     "metadata": {},
     "output_type": "execute_result"
    }
   ],
   "source": [
    "0.25*0.7/p_all"
   ],
   "metadata": {
    "collapsed": false,
    "pycharm": {
     "name": "#%%\n"
    }
   }
  },
  {
   "cell_type": "code",
   "execution_count": 20,
   "outputs": [
    {
     "data": {
      "text/plain": "0.5454545454545455"
     },
     "execution_count": 20,
     "metadata": {},
     "output_type": "execute_result"
    }
   ],
   "source": [
    "0.5*0.9/p_all"
   ],
   "metadata": {
    "collapsed": false,
    "pycharm": {
     "name": "#%%\n"
    }
   }
  },
  {
   "cell_type": "markdown",
   "source": [
    "### 5\n",
    "a) Все 3 детали тут все понятно, перемножаем 3 вероятности все<br>\n",
    "б)2 детали в разных вариациях могут сломаться:<br>\n",
    "1ая и 2ая или 1ая и 3я или 2я и 3я. Считаем каждую вероятность перемножением и складываем их<br>\n",
    "в)тут считаем вероятность что ничего не ломается и вычитаем это из единциы, такое же делали в третьей задаче<br>\n",
    "г)Просто сложим ответы пунктов б и в, т.к либо то должно случиться либо другое"
   ],
   "metadata": {
    "collapsed": false,
    "pycharm": {
     "name": "#%% md\n"
    }
   }
  },
  {
   "cell_type": "code",
   "execution_count": 21,
   "outputs": [
    {
     "data": {
      "text/plain": "0.005000000000000001"
     },
     "execution_count": 21,
     "metadata": {},
     "output_type": "execute_result"
    }
   ],
   "source": [
    "#a\n",
    "0.1*0.2*0.25"
   ],
   "metadata": {
    "collapsed": false,
    "pycharm": {
     "name": "#%%\n"
    }
   }
  },
  {
   "cell_type": "code",
   "execution_count": 22,
   "outputs": [
    {
     "data": {
      "text/plain": "0.095"
     },
     "execution_count": 22,
     "metadata": {},
     "output_type": "execute_result"
    }
   ],
   "source": [
    "#б\n",
    "0.1*0.2+0.1*0.25+0.2*0.25"
   ],
   "metadata": {
    "collapsed": false,
    "pycharm": {
     "name": "#%%\n"
    }
   }
  },
  {
   "cell_type": "code",
   "execution_count": 23,
   "outputs": [
    {
     "data": {
      "text/plain": "0.45999999999999996"
     },
     "execution_count": 23,
     "metadata": {},
     "output_type": "execute_result"
    }
   ],
   "source": [
    "#в\n",
    "1-0.9*0.8*0.75"
   ],
   "metadata": {
    "collapsed": false,
    "pycharm": {
     "name": "#%%\n"
    }
   }
  },
  {
   "cell_type": "code",
   "execution_count": 24,
   "outputs": [
    {
     "data": {
      "text/plain": "0.5549999999999999"
     },
     "execution_count": 24,
     "metadata": {},
     "output_type": "execute_result"
    }
   ],
   "source": [
    "#г\n",
    "(0.1*0.2+0.1*0.25+0.2*0.25)+(1-0.9*0.8*0.75)\n"
   ],
   "metadata": {
    "collapsed": false,
    "pycharm": {
     "name": "#%%\n"
    }
   }
  }
 ],
 "metadata": {
  "kernelspec": {
   "display_name": "Python 3",
   "language": "python",
   "name": "python3"
  },
  "language_info": {
   "codemirror_mode": {
    "name": "ipython",
    "version": 2
   },
   "file_extension": ".py",
   "mimetype": "text/x-python",
   "name": "python",
   "nbconvert_exporter": "python",
   "pygments_lexer": "ipython2",
   "version": "2.7.6"
  }
 },
 "nbformat": 4,
 "nbformat_minor": 0
}