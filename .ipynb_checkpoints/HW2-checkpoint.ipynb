{
 "cells": [
  {
   "cell_type": "code",
   "execution_count": 11,
   "metadata": {
    "collapsed": true,
    "pycharm": {
     "name": "#%%\n"
    }
   },
   "outputs": [],
   "source": [
    "#Объялвяю функции сочетания, бинминальное распределение и пуассона. Подключим необходимые переменные\n",
    "from math import factorial, e\n",
    "def combination(success:int, all:int):\n",
    "   c = factorial(all)/(factorial(all-success) * factorial(success))\n",
    "   return c\n",
    "\n",
    "def binominal(success:int, all:int, one_probability:float):\n",
    "    p = combination(success, all)*(one_probability**success)*((1-one_probability)**(all-success))\n",
    "    return p\n",
    "\n",
    "def puasson(success:int, all:int, one_probability:float):\n",
    "    lambda_p = all*one_probability\n",
    "    p = (lambda_p**success/factorial(success))*(e**-lambda_p)\n",
    "    return p"
   ]
  },
  {
   "cell_type": "markdown",
   "metadata": {
    "pycharm": {
     "name": "#%% md\n"
    }
   },
   "source": [
    "Первая задача - закон биноминального распределения. Есть все условия: Дискретная случайная величина, высокая вероятность одиночного события и 100 испытаний<br>\n",
    "Применим функцию и получим ответ"
   ]
  },
  {
   "cell_type": "code",
   "execution_count": 12,
   "metadata": {
    "pycharm": {
     "name": "#%%\n"
    }
   },
   "outputs": [
    {
     "data": {
      "text/plain": [
       "0.048061793700746355"
      ]
     },
     "execution_count": 12,
     "metadata": {},
     "output_type": "execute_result"
    }
   ],
   "source": [
    "answ_1 = binominal(85, 100, 0.8)\n",
    "answ_1\n"
   ]
  },
  {
   "cell_type": "markdown",
   "metadata": {
    "pycharm": {
     "name": "#%% md\n"
    }
   },
   "source": [
    "Вторая задача, распределение пуассона, имеем много испытаний, низукю веоятность для одного<br>\n",
    "Сдедовательно недолго думая применим заранее объявленную функцию и посмотрим ответ"
   ]
  },
  {
   "cell_type": "code",
   "execution_count": 13,
   "metadata": {
    "pycharm": {
     "name": "#%%\n"
    }
   },
   "outputs": [
    {
     "data": {
      "text/plain": [
       "0.1353352832366127"
      ]
     },
     "execution_count": 13,
     "metadata": {},
     "output_type": "execute_result"
    }
   ],
   "source": [
    "# 2a для 0 успешных испытаний\n",
    "answ_2a = puasson(0, 5000, 0.0004)\n",
    "# 2б сразу посчитаем и для 2х успешных то же самое\n",
    "answ_2b = puasson(2, 5000, 0.0004)\n",
    "answ_2a # вывожу 2а"
   ]
  },
  {
   "cell_type": "code",
   "execution_count": 14,
   "metadata": {
    "pycharm": {
     "name": "#%%\n"
    }
   },
   "outputs": [
    {
     "data": {
      "text/plain": [
       "0.2706705664732254"
      ]
     },
     "execution_count": 14,
     "metadata": {},
     "output_type": "execute_result"
    }
   ],
   "source": [
    "answ_2b # и 2б\n"
   ]
  },
  {
   "cell_type": "markdown",
   "metadata": {
    "pycharm": {
     "name": "#%% md\n"
    }
   },
   "source": [
    "3я задача аналогична первой. Понятно что вероятность единичного успешного исхода будет 0.5<br>\n",
    "Также подставляем в функцию"
   ]
  },
  {
   "cell_type": "code",
   "execution_count": 15,
   "metadata": {
    "pycharm": {
     "name": "#%%\n"
    }
   },
   "outputs": [
    {
     "data": {
      "text/plain": [
       "0.06281178035144776"
      ]
     },
     "execution_count": 15,
     "metadata": {},
     "output_type": "execute_result"
    }
   ],
   "source": [
    "answ_3a = binominal(70, 144, 0.5)\n",
    "answ_3a"
   ]
  },
  {
   "cell_type": "markdown",
   "metadata": {
    "pycharm": {
     "name": "#%% md\n"
    }
   },
   "source": [
    "Четвертая задача, порассуждаем<br>\n",
    "a)Все мячи белые. Берем первый ящик, вероятность что первый мяч белый 7/10<br>\n",
    "Тогда второй мяч белый в первом ящике уже 6/9<br>\n",
    "Второй яшик то же самое: 9/11 и 8/10 соответственно<br>\n",
    "Теперь просто перемножаем чтобы вероятности сработали одновременно\n"
   ]
  },
  {
   "cell_type": "code",
   "execution_count": 16,
   "metadata": {
    "pycharm": {
     "name": "#%%\n"
    }
   },
   "outputs": [
    {
     "data": {
      "text/plain": [
       "0.3054545454545454"
      ]
     },
     "execution_count": 16,
     "metadata": {},
     "output_type": "execute_result"
    }
   ],
   "source": [
    "7/10*6/9*9/11*8/10\n"
   ]
  },
  {
   "cell_type": "markdown",
   "metadata": {
    "pycharm": {
     "name": "#%% md\n"
    }
   },
   "source": [
    "б) 2 мяча белые. Понятно что можем вытащить их в 3х вариациях:<br>\n",
    "1) Из первого ящика 2, из второго 0<br>\n",
    "2) Из первого ящика 1, из второго 1<br>\n",
    "3) Из первого ящика 0, из второго 2<br>\n",
    "Нужно сделать все сочетания переборами для этих случаев"
   ]
  },
  {
   "cell_type": "code",
   "execution_count": 38,
   "metadata": {
    "pycharm": {
     "name": "#%%\n"
    }
   },
   "outputs": [
    {
     "data": {
      "text/plain": [
       "1.0"
      ]
     },
     "execution_count": 38,
     "metadata": {},
     "output_type": "execute_result"
    }
   ],
   "source": [
    "b_all = combination(2,10) + combination(2,11) #все варианты перебора шаров 2 по 2\n",
    "b1_success = (combination(2,7) * combination(0,3)) + (combination(0,9) *combination(2,2))# все успешные исходы вариант1\n",
    "b2_success = (combination(1,7) * combination(1,3)) + (combination(1,9) *combination(1,2))# все успешные исходы вариант2\n",
    "b3_success = (combination(0,7) * combination(2,3)) + (combination(2,9) *combination(0,2))# все успешные исходы вариант3\n",
    "\n",
    "(b3_success+b2_success+b1_success)/b_all # Ответ получается равен 1!! 100% что крайне странно"
   ]
  },
  {
   "cell_type": "markdown",
   "metadata": {
    "pycharm": {
     "name": "#%% md\n"
    }
   },
   "source": [
    "Стоит заметить что вероятность получилась 100%, есть сомнения что это так на самом деле, хотя исходя из следующего пункта<br>\n",
    "Вероятность когда хотя бы один шар белый при такой выборке составляет ~ 100%"
   ]
  },
  {
   "cell_type": "markdown",
   "metadata": {},
   "source": [
    "в) тут пойдем от противного, посчитаем и перемножим все вероятности, когда все выборки мячей не будут белыми, и вычтем ее из 1<br>\n",
    "Тогда будет понятно. Вероятность что первый шар из первой коробки не белый 3/10, второй 2/9 соответствнно<br>\n",
    "Первый шар из второй коробки 2/11, второй шар 1/10<br>\n",
    "Посчитаем вероятность когда белые шары отсутствуют"
   ]
  },
  {
   "cell_type": "code",
   "execution_count": 39,
   "metadata": {
    "pycharm": {
     "name": "#%%\n"
    }
   },
   "outputs": [
    {
     "data": {
      "text/plain": [
       "0.0012121212121212121"
      ]
     },
     "execution_count": 39,
     "metadata": {},
     "output_type": "execute_result"
    }
   ],
   "source": [
    "not_success = 3/10*2/9*2/11*1/10\n",
    "not_success\n"
   ]
  },
  {
   "cell_type": "code",
   "execution_count": 40,
   "metadata": {
    "pycharm": {
     "name": "#%%\n"
    }
   },
   "outputs": [
    {
     "data": {
      "text/plain": [
       "0.9987878787878788"
      ]
     },
     "execution_count": 40,
     "metadata": {},
     "output_type": "execute_result"
    }
   ],
   "source": [
    "1-not_success #Наша вероятность что хотя бы один шар будет белым, если вытащить 2 по 2\n",
    "\n"
   ]
  },
  {
   "cell_type": "code",
   "execution_count": null,
   "metadata": {
    "pycharm": {
     "name": "#%%\n"
    }
   },
   "outputs": [],
   "source": [
    "\n"
   ]
  }
 ],
 "metadata": {
  "kernelspec": {
   "display_name": "Python 3 (ipykernel)",
   "language": "python",
   "name": "python3"
  },
  "language_info": {
   "codemirror_mode": {
    "name": "ipython",
    "version": 3
   },
   "file_extension": ".py",
   "mimetype": "text/x-python",
   "name": "python",
   "nbconvert_exporter": "python",
   "pygments_lexer": "ipython3",
   "version": "3.9.1"
  }
 },
 "nbformat": 4,
 "nbformat_minor": 1
}
